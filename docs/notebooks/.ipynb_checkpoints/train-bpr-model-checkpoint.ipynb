{
 "cells": [
  {
   "cell_type": "markdown",
   "id": "acquired-afghanistan",
   "metadata": {},
   "source": [
    "# Train Body Part Regression Model \n",
    "we will exemplary show how to train a Body Part Regression Model. In general it is important to create a very diverse dataset for training with lots of CT volumes (preferable over 1000 volumes) and from several different studies. For demonstration purposes, we will use in this notebook fewer data and only from one study. \n",
    "\n",
    "## 1. Download data \n",
    "First, the data needs to be downloaded\n",
    "\n",
    "![title](./tcia-ct-lymph-nodes.png)\n"
   ]
  },
  {
   "cell_type": "markdown",
   "id": "coupled-officer",
   "metadata": {},
   "source": []
  },
  {
   "cell_type": "code",
   "execution_count": null,
   "id": "sudden-aberdeen",
   "metadata": {},
   "outputs": [],
   "source": []
  }
 ],
 "metadata": {
  "kernelspec": {
   "display_name": "plightning5",
   "language": "python",
   "name": "plightning5"
  },
  "language_info": {
   "codemirror_mode": {
    "name": "ipython",
    "version": 3
   },
   "file_extension": ".py",
   "mimetype": "text/x-python",
   "name": "python",
   "nbconvert_exporter": "python",
   "pygments_lexer": "ipython3",
   "version": "3.7.9"
  }
 },
 "nbformat": 4,
 "nbformat_minor": 5
}
