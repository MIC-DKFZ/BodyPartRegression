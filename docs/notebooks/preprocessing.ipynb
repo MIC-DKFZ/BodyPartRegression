{
 "cells": [
  {
   "cell_type": "code",
   "execution_count": null,
   "id": "86b7edb5-4e21-48b9-8f38-595374e28d55",
   "metadata": {},
   "outputs": [],
   "source": [
    "import os\n",
    "import SimpleITK as sitk\n",
    "from utils import conversion2nifti, nifti2npy, update_meta_data_split"
   ]
  },
  {
   "cell_type": "code",
   "execution_count": null,
   "id": "11f97c53-75d9-4490-bb2e-a93576bd301f",
   "metadata": {},
   "outputs": [],
   "source": [
    "# Set base dir containing nrrd files in nrrd subdir\n",
    "base_dir = \"/media/lisa/HDD/Data/examples\""
   ]
  },
  {
   "cell_type": "code",
   "execution_count": null,
   "id": "e5db335e-4f8a-4e07-9be1-fab459e364a7",
   "metadata": {},
   "outputs": [],
   "source": [
    "# convert numpy to nifti\n",
    "data_dir_in = os.path.join(base_dir, \"nrrd/\")\n",
    "nifti_dir_out = os.path.join(base_dir, \"nifti/\")\n",
    "npy_dir_out = os.path.join(base_dir, \"npy/\")\n",
    "\n",
    "if not os.path.isdir(nifti_dir_out):\n",
    "    os.makedirs(nifti_dir_out)\n",
    "if not os.path.isdir(npy_dir_out):\n",
    "    os.makedirs(npy_dir_out)\n",
    "\n",
    "for file in os.listdir(data_dir_in):\n",
    "    in_file = os.path.join(data_dir_in, file)\n",
    "    if not os.path.isdir(in_file):\n",
    "        nifti_out = os.path.join(nifti_dir_out, os.path.splitext(file)[0]+\".nii.gz\")\n",
    "        conversion2nifti(in_file, nifti_out)\n"
   ]
  },
  {
   "cell_type": "code",
   "execution_count": null,
   "id": "259167c5-5598-4206-90e5-491053d0a440",
   "metadata": {},
   "outputs": [],
   "source": [
    "# convert nifti to npy and save meta_data.xml\n",
    "nifti2npy(nifti_dir_out, npy_dir_out, min_hu=None, max_hu=None, size=128)"
   ]
  },
  {
   "cell_type": "code",
   "execution_count": null,
   "id": "af421756-d3ce-4fe7-9dfb-effa36e049f6",
   "metadata": {},
   "outputs": [],
   "source": [
    "# update meta data with train/val/test data from landmark file\n",
    "update_meta_data_split(\n",
    "    meta_data_filepath=os.path.join(base_dir, \"meta_data.xlsx\"),\n",
    ")"
   ]
  }
 ],
 "metadata": {
  "kernelspec": {
   "display_name": "Python (bpreg)",
   "language": "python",
   "name": "bpreg"
  },
  "language_info": {
   "codemirror_mode": {
    "name": "ipython",
    "version": 3
   },
   "file_extension": ".py",
   "mimetype": "text/x-python",
   "name": "python",
   "nbconvert_exporter": "python",
   "pygments_lexer": "ipython3",
   "version": "3.9.0"
  }
 },
 "nbformat": 4,
 "nbformat_minor": 5
}
