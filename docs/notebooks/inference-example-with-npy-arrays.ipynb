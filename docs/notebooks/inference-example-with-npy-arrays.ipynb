{
 "cells": [
  {
   "cell_type": "code",
   "execution_count": 4,
   "id": "welsh-strength",
   "metadata": {},
   "outputs": [
    {
     "name": "stdout",
     "output_type": "stream",
     "text": [
      "The autoreload extension is already loaded. To reload it, use:\n",
      "  %reload_ext autoreload\n"
     ]
    }
   ],
   "source": [
    "%load_ext autoreload\n",
    "%autoreload 2\n",
    "\n",
    "import os \n",
    "import pandas as pd\n",
    "import nibabel as nib\n",
    "from bpreg.scripts.bpreg_inference import bpreg_inference\n",
    "from bpreg.inference.inference_model import InferenceModel\n",
    "from docs.notebooks.utils import * "
   ]
  },
  {
   "cell_type": "markdown",
   "id": "featured-oriental",
   "metadata": {},
   "source": [
    "## 1. Load data\n",
    "Load data from Zenodo: \n",
    "https://zenodo.org/record/5211537#.YRuny9axWEA\n",
    "\n",
    "For this analysis the [APOLLO-5-LSCC](https://wiki.cancerimagingarchive.net/display/Public/APOLLO-5-LSCC#95224279e16fe234091144e28bf0dcf8d5f2eb4c) data from the Cancer Image Archive was used. <br>\n",
    "In Zenodo you will find the the CT images from the study converted into the npy-format. \n",
    "\n",
    "## 1.1 Define variables"
   ]
  },
  {
   "cell_type": "code",
   "execution_count": 5,
   "id": "intensive-northern",
   "metadata": {},
   "outputs": [],
   "source": [
    "meta_data_path = \"data/APOLLO/meta-data.xlsx\"\n",
    "npy_path = \"data/APOLLO/npy-files/\"\n",
    "json_path = \"data/APOLLO/json-files/\"\n",
    "\n",
    "if not os.path.exists(json_path): os.mkdir(json_path)\n",
    "df = pd.read_excel(meta_data_path, index_col=0)\n",
    "model = InferenceModel()"
   ]
  },
  {
   "cell_type": "markdown",
   "id": "demanding-director",
   "metadata": {},
   "source": [
    "## 2. Create body part meta-data file for npy files \n",
    "If CT images in the npy-format are used for inference, it has to be taken care of a few points: \n",
    "- the intensity scale in the CT images needs to be in Hounsfield Units (HU) \n",
    "- the pixel-spacings in x y and z-direction needs to be given as tuple: \n",
    "(pixel spacing x, pixel spacing y, pixel spacing z)\n",
    "- The axis order needs to be defined. For example, if we have a CT volume with the shape of 512 x 512 x 120 pixels and the axis ordering xyz, we need to pass the tuple (0, 1, 2) into the function. "
   ]
  },
  {
   "cell_type": "code",
   "execution_count": 6,
   "id": "optional-nylon",
   "metadata": {},
   "outputs": [
    {
     "name": "stderr",
     "output_type": "stream",
     "text": [
      "100%|██████████| 38/38 [00:28<00:00,  1.36it/s]\n"
     ]
    }
   ],
   "source": [
    "for file in tqdm(os.listdir(npy_path)): \n",
    "    X = np.load(npy_path + file)\n",
    "    pixel_spacings = df.loc[file]\n",
    "    bodypart_metadata = model.npy2json(X, \n",
    "                                       json_path + file.replace(\".npy\", \".json\"), \n",
    "                                       pixel_spacings, \n",
    "                                       axis_ordering=(0, 1, 2))\n"
   ]
  },
  {
   "cell_type": "markdown",
   "id": "periodic-squad",
   "metadata": {},
   "source": [
    "## 3. Analyze input in metadata files\n",
    "In the the path json_path for each file a meta-data file was created. <br>\n",
    "Let's have a look into the meta-data files. \n",
    "\n",
    "### 3.1 Analyze body part distirbution in dataset"
   ]
  },
  {
   "cell_type": "code",
   "execution_count": 7,
   "id": "processed-abraham",
   "metadata": {},
   "outputs": [
    {
     "data": {
      "image/png": "[encoded data removed]",
      "text/plain": [
       "<Figure size 720x720 with 1 Axes>"
      ]
     },
     "metadata": {},
     "output_type": "display_data"
    }
   ],
   "source": [
    "bodyparts = []\n",
    "\n",
    "for file in os.listdir(json_path): \n",
    "    with open(json_path + file, \"rb\") as f: \n",
    "        bodypart_metadata = json.load(f)\n",
    "    bodyparts.append(bodypart_metadata[\"body part examined tag\"])\n",
    "    \n",
    "unique_bodyparts = np.unique(bodyparts)\n",
    "counts = [bodyparts.count(word)/len(bodyparts) for word in unique_bodyparts]\n",
    "\n",
    "_, ax = plt.subplots(figsize=(10, 10))\n",
    "_, texts, autotexts = ax.pie(counts, \n",
    "                             labels=unique_bodyparts,\n",
    "                             autopct='%1.1f%%')\n",
    "plt.show()"
   ]
  },
  {
   "cell_type": "markdown",
   "id": "domestic-produce",
   "metadata": {},
   "source": [
    "### 3.2 Analyze individual JSON meta-data files"
   ]
  },
  {
   "cell_type": "code",
   "execution_count": null,
   "id": "protective-examination",
   "metadata": {},
   "outputs": [],
   "source": [
    "i = 12\n",
    "file = os.listdir(json_path)[i]\n",
    "X = np.load(npy_path + file.replace(\".json\", \".npy\"))\n",
    "\n",
    "# Print meta-data\n",
    "print(f\"Analyze file: {file}\\n-----------------------------------\")\n",
    "with open(json_path + file, \"rb\") as f: \n",
    "    bodypart_metadata = json.load(f)\n",
    "\n",
    "# Predict Body Part Examined\n",
    "print(\"Predicted Body Part Examined: \", bodypart_metadata[\"body part examined tag\"])\n",
    "\n",
    "# Plot Slice Scores\n",
    "plt.plot(bodypart_metadata[\"z\"], bodypart_metadata[\"cleaned slice scores\"])\n",
    "plt.title(\"Slice score curve\", fontsize=20)\n",
    "plt.xlabel(\"Height [mm]\", fontsize=18)\n",
    "plt.ylabel(\"Slice Scores\", fontsize=18)\n",
    "plt.show()\n",
    "\n",
    "# Print look-up table \n",
    "print(\"Slice score look up table: \")\n",
    "lookup = pd.DataFrame(bodypart_metadata[\"look-up table\"]).T\n",
    "display(lookup)\n",
    "\n",
    "# Plot coronal slice of CT volume\n",
    "print(f\"Shape of CT volume: {X.shape}\")\n",
    "print(f\"Minimum HU value in CT volume: {np.min(X)}\")\n",
    "print(f\"Maximum HU value in CT volume: {np.max(X)}\")\n",
    "\n",
    "plt.title(\"Coronal Slice\", fontsize=20)\n",
    "plt.imshow(X[:, 250, :].T, origin=\"lower\", aspect=\"auto\", cmap=\"gray\")\n",
    "plt.show()"
   ]
  },
  {
   "cell_type": "code",
   "execution_count": null,
   "id": "humanitarian-reader",
   "metadata": {},
   "outputs": [],
   "source": []
  }
 ],
 "metadata": {
  "kernelspec": {
   "display_name": "plightning5",
   "language": "python",
   "name": "plightning5"
  },
  "language_info": {
   "codemirror_mode": {
    "name": "ipython",
    "version": 3
   },
   "file_extension": ".py",
   "mimetype": "text/x-python",
   "name": "python",
   "nbconvert_exporter": "python",
   "pygments_lexer": "ipython3",
   "version": "3.7.9"
  }
 },
 "nbformat": 4,
 "nbformat_minor": 5
}
