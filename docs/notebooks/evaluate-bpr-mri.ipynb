{
 "cells": [
  {
   "cell_type": "code",
   "execution_count": null,
   "id": "887f0c6a-6e6a-4638-bf29-f5e26e638541",
   "metadata": {},
   "outputs": [],
   "source": [
    "%load_ext autoreload\n",
    "%autoreload 2\n",
    "\n",
    "import os, sys, pickle\n",
    "import numpy as np \n",
    "from tqdm import tqdm \n",
    "import matplotlib.pyplot as plt \n",
    "\n",
    "from bpreg.evaluation.visualization import plot_data \n",
    "from bpreg.settings import *\n",
    "from bpreg.scripts.train import train_config, train_json"
   ]
  },
  {
   "cell_type": "markdown",
   "id": "8da1da2c-848f-4bc9-b4cc-4a747219c73f",
   "metadata": {},
   "source": [
    "## Define Settings"
   ]
  },
  {
   "cell_type": "code",
   "execution_count": null,
   "id": "97a72c3c-fa0b-4955-95a6-831ee15e0fd9",
   "metadata": {},
   "outputs": [],
   "source": [
    "# Define data paths\n",
    "base_dir = \"/media/lisa/HDD/Data/examples/\"\n",
    "data_path = os.path.join(base_dir, \"npy/\")\n",
    "meta_data_path = os.path.join(base_dir, \"meta_data.xlsx\")\n",
    "landmark_path = None"
   ]
  },
  {
   "cell_type": "code",
   "execution_count": null,
   "id": "a61e87e9-7847-4c41-bd9b-7006d3d17f81",
   "metadata": {},
   "outputs": [],
   "source": [
    "# Create config for training\n",
    "params = {\"df_data_source_path\": meta_data_path, \n",
    "          \"data_path\": data_path, \n",
    "          \"landmark_path\": landmark_path, \n",
    "          \"save_dir\": os.path.join(base_dir, \"output\"), \n",
    "          \"model_name\": \"BPR_MRT\"}\n",
    "          #\"model\": \"SSBR\",\n",
    "          #\"alpha\": 15}\n",
    "# define params for data augmentations\n",
    "transform_params = TRANSFORM_STANDARD_PARAMS\n",
    "transform_params[\"AddFrame\"][\"dimension\"] = 128\n",
    "params[\"transform_params\"] = transform_params \n",
    "params[\"epochs\"] = 50000\n",
    "\n",
    "config = ModelSettings(**params)\n",
    "print(config)\n",
    "\n",
    "# save config as json \n",
    "config.save(os.path.join(base_dir, \"bpr-config.json\"))"
   ]
  },
  {
   "cell_type": "markdown",
   "id": "747ff10e-fc46-4443-bd2f-e090b7b74770",
   "metadata": {},
   "source": [
    "## Visualize data"
   ]
  },
  {
   "cell_type": "code",
   "execution_count": null,
   "id": "0e9f2602-812c-4d30-b278-86424f635e28",
   "metadata": {},
   "outputs": [],
   "source": [
    "# plot training data \n",
    "print(\"TRAINING DATA\")\n",
    "plot_data(config, kind=\"train\", cols=4, rows=4)\n",
    "# plot test data \n",
    "print(\"TEST DATA\")\n",
    "plot_data(config, kind=\"test\", cols=4, rows=4)"
   ]
  },
  {
   "cell_type": "markdown",
   "id": "3e69cce6-1353-4cb8-a82f-30bd9d55d000",
   "metadata": {},
   "source": [
    "## Evaluation"
   ]
  },
  {
   "cell_type": "code",
   "execution_count": null,
   "id": "868bea51-f1a8-4811-a492-42a96e3df7b3",
   "metadata": {},
   "outputs": [],
   "source": [
    "# load model from checkpoint file\n",
    "from bpreg.evaluation.evaluation import Evaluation\n",
    "\n",
    "modelEval = Evaluation(os.path.join(base_dir, \"output/BPR_MRT/version_8/\"),\n",
    "                       df_data_source_path=meta_data_path, \n",
    "                       landmark_path=None, #landmark_path,  \n",
    "                       data_path=data_path, \n",
    "                       landmark_start=None, #\"pelvis_start\", \n",
    "                       landmark_end=None,\n",
    "                       model_file=\"checkpoints/epoch=1918-step=1918.ckpt\")"
   ]
  },
  {
   "cell_type": "code",
   "execution_count": null,
   "id": "c249f665-784c-465f-aaec-12b6c88d324f",
   "metadata": {},
   "outputs": [],
   "source": [
    "from bpreg.evaluation.evaluation_without_landmarks import ValidationVolume\n",
    "\n",
    "vol = ValidationVolume(inference_model=modelEval.inference_model,\n",
    "                       val_dataset=modelEval.test_dataset,\n",
    "                       idx=list(np.arange(7)))\n",
    "vol.plot_scores(set_figsize=(8, 8), legend=True, postprocess_volumes=True)"
   ]
  },
  {
   "cell_type": "code",
   "execution_count": null,
   "id": "a0f55124-1684-4240-878a-19030c127c67",
   "metadata": {},
   "outputs": [],
   "source": [
    "nearby_values=np.linspace(-3, 3, 5)\n",
    "print(f\"plot slices from test set near scores: {nearby_values}\")\n",
    "modelEval.plot_slices2scores(max_cols=4, nearby_values=nearby_values, threshold_score=0.2)"
   ]
  },
  {
   "cell_type": "code",
   "execution_count": null,
   "id": "9670d077-58e5-42ec-ae92-147f5d474381",
   "metadata": {},
   "outputs": [],
   "source": []
  }
 ],
 "metadata": {
  "kernelspec": {
   "display_name": "Python (bpreg)",
   "language": "python",
   "name": "bpreg"
  },
  "language_info": {
   "codemirror_mode": {
    "name": "ipython",
    "version": 3
   },
   "file_extension": ".py",
   "mimetype": "text/x-python",
   "name": "python",
   "nbconvert_exporter": "python",
   "pygments_lexer": "ipython3",
   "version": "3.9.0"
  }
 },
 "nbformat": 4,
 "nbformat_minor": 5
}
